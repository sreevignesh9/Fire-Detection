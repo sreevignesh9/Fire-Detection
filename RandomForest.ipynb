{
 "cells": [
  {
   "cell_type": "code",
   "execution_count": 2,
   "id": "2128d0dc",
   "metadata": {},
   "outputs": [],
   "source": [
    "import pandas as pd\n",
    "import tensorflow as tf\n",
    "from tensorflow.keras import datasets, layers, models\n",
    "from keras.layers import BatchNormalization\n",
    "from tensorflow.keras.callbacks import EarlyStopping\n",
    "from keras.utils import np_utils\n",
    "from keras.layers import Dropout\n",
    "import matplotlib.pyplot as plt\n",
    "import numpy as np\n",
    "import os\n",
    "from tqdm import tqdm\n",
    "import cv2\n",
    "from glob import glob\n",
    "import seaborn as sns\n",
    "sns.set()\n",
    "\n",
    "import sklearn\n",
    "import skimage\n",
    "from skimage.transform import resize\n",
    "\n",
    "import random\n",
    "from skimage.color import rgb2gray\n",
    "from keras.preprocessing.image import ImageDataGenerator\n",
    "from sklearn.metrics import accuracy_score"
   ]
  },
  {
   "cell_type": "code",
   "execution_count": 1,
   "id": "d003b167",
   "metadata": {},
   "outputs": [
    {
     "ename": "NameError",
     "evalue": "name 'np' is not defined",
     "output_type": "error",
     "traceback": [
      "\u001b[1;31m---------------------------------------------------------------------------\u001b[0m",
      "\u001b[1;31mNameError\u001b[0m                                 Traceback (most recent call last)",
      "\u001b[1;32m<ipython-input-1-2430a72bddda>\u001b[0m in \u001b[0;36m<module>\u001b[1;34m\u001b[0m\n\u001b[0;32m     39\u001b[0m     \u001b[0mnp\u001b[0m\u001b[1;33m.\u001b[0m\u001b[0msave\u001b[0m\u001b[1;33m(\u001b[0m\u001b[1;34m\"ytest.npy\"\u001b[0m\u001b[1;33m,\u001b[0m\u001b[0my_test\u001b[0m\u001b[1;33m)\u001b[0m\u001b[1;33m\u001b[0m\u001b[1;33m\u001b[0m\u001b[0m\n\u001b[0;32m     40\u001b[0m \u001b[1;32melse\u001b[0m\u001b[1;33m:\u001b[0m\u001b[1;33m\u001b[0m\u001b[1;33m\u001b[0m\u001b[0m\n\u001b[1;32m---> 41\u001b[1;33m     \u001b[0mX_train\u001b[0m \u001b[1;33m=\u001b[0m \u001b[0mnp\u001b[0m\u001b[1;33m.\u001b[0m\u001b[0mload\u001b[0m\u001b[1;33m(\u001b[0m\u001b[1;34m\"xtrain.npy\"\u001b[0m\u001b[1;33m)\u001b[0m\u001b[1;33m\u001b[0m\u001b[1;33m\u001b[0m\u001b[0m\n\u001b[0m\u001b[0;32m     42\u001b[0m     \u001b[0my_train\u001b[0m \u001b[1;33m=\u001b[0m \u001b[0mnp\u001b[0m\u001b[1;33m.\u001b[0m\u001b[0mload\u001b[0m\u001b[1;33m(\u001b[0m\u001b[1;34m\"ytrain.npy\"\u001b[0m\u001b[1;33m)\u001b[0m\u001b[1;33m\u001b[0m\u001b[1;33m\u001b[0m\u001b[0m\n\u001b[0;32m     43\u001b[0m     \u001b[0mX_test\u001b[0m \u001b[1;33m=\u001b[0m \u001b[0mnp\u001b[0m\u001b[1;33m.\u001b[0m\u001b[0mload\u001b[0m\u001b[1;33m(\u001b[0m\u001b[1;34m\"xtest.npy\"\u001b[0m\u001b[1;33m)\u001b[0m\u001b[1;33m\u001b[0m\u001b[1;33m\u001b[0m\u001b[0m\n",
      "\u001b[1;31mNameError\u001b[0m: name 'np' is not defined"
     ]
    }
   ],
   "source": [
    "train = \"./dataset/train\"\n",
    "\n",
    "test = \"./dataset/test\"\n",
    "\n",
    "\n",
    "\n",
    "LOAD_FROM_IMAGES = False\n",
    "\n",
    "def get_data(folder):\n",
    "    x = []\n",
    "    y = []\n",
    "    for folderName in os.listdir(folder):\n",
    "        if not folderName.startswith(\".\"):\n",
    "            if folderName in [\"nofire\"]:\n",
    "                label = 0\n",
    "            elif folderName in [\"fire\"]:\n",
    "                label = 1\n",
    "            else:\n",
    "                label = 2\n",
    "            for image_filename in tqdm(os.listdir(folder +\"/\" +folderName+\"/\")):\n",
    "                img_file = cv2.imread(folder + \"/\" +folderName + \"/\" + image_filename)\n",
    "                if img_file is not None:\n",
    "                    img_file = skimage.transform.resize(img_file,(128,128,3), mode = \"constant\",anti_aliasing=True)\n",
    "                    #img_file = rgb2gray(img_file)\n",
    "                    img_arr = np.asarray(img_file)\n",
    "                    x.append(img_arr)\n",
    "                    y.append(label)\n",
    "    x = np.asarray(x)\n",
    "    y = np.asarray(y)\n",
    "    return x,y\n",
    "\n",
    "if LOAD_FROM_IMAGES:\n",
    "    X_train,y_train = get_data(train)\n",
    "    X_test, y_test = get_data(test)\n",
    "    \n",
    "    np.save(\"xtrain.npy\",X_train)\n",
    "    np.save(\"ytrain.npy\",y_train)\n",
    "    np.save(\"xtest.npy\",X_test)\n",
    "    np.save(\"ytest.npy\",y_test)\n",
    "else:\n",
    "    X_train = np.load(\"xtrain.npy\")\n",
    "    y_train = np.load(\"ytrain.npy\")\n",
    "    X_test = np.load(\"xtest.npy\")\n",
    "    y_test = np.load(\"ytest.npy\")"
   ]
  },
  {
   "cell_type": "code",
   "execution_count": 3,
   "id": "254878d6",
   "metadata": {},
   "outputs": [
    {
     "data": {
      "text/plain": [
       "(1832, 128, 128, 3)"
      ]
     },
     "execution_count": 3,
     "metadata": {},
     "output_type": "execute_result"
    }
   ],
   "source": [
    "X_train.shape"
   ]
  },
  {
   "cell_type": "code",
   "execution_count": 4,
   "id": "ea826019",
   "metadata": {},
   "outputs": [],
   "source": [
    "future_extractor = models.Sequential()\n",
    "\n",
    "future_extractor.add(layers.Conv2D(64,(3,3),activation=\"relu\",input_shape=(128,128,3)))\n",
    "future_extractor.add(layers.MaxPooling2D((2,2)))\n",
    "future_extractor.add(BatchNormalization())\n",
    "future_extractor.add(Dropout(0.5))\n",
    "\n",
    "future_extractor.add(layers.Conv2D(64,(3,3),activation=\"relu\"))\n",
    "future_extractor.add(layers.MaxPooling2D((2,2)))\n",
    "\n",
    "future_extractor.add(layers.Conv2D(64,(3,3),activation=\"relu\"))\n",
    "future_extractor.add(layers.MaxPooling2D((2,2)))\n",
    "\n",
    "future_extractor.add(layers.Flatten())\n"
   ]
  },
  {
   "cell_type": "code",
   "execution_count": 5,
   "id": "5d111676",
   "metadata": {},
   "outputs": [],
   "source": [
    "x = future_extractor.output\n",
    "x = (layers.Dense(128,activation=\"relu\"))(x)\n",
    "x = (BatchNormalization())(x)\n",
    "x = (Dropout(0.5))(x)\n",
    "pred_layer = (layers.Dense(2,activation=\"softmax\"))(x)"
   ]
  },
  {
   "cell_type": "code",
   "execution_count": 6,
   "id": "e8832725",
   "metadata": {},
   "outputs": [],
   "source": [
    "from keras.models import Model\n",
    "cnn_model = Model(inputs=future_extractor.input, outputs=pred_layer)"
   ]
  },
  {
   "cell_type": "code",
   "execution_count": 7,
   "id": "b454c2b4",
   "metadata": {},
   "outputs": [
    {
     "name": "stdout",
     "output_type": "stream",
     "text": [
      "Model: \"model\"\n",
      "_________________________________________________________________\n",
      " Layer (type)                Output Shape              Param #   \n",
      "=================================================================\n",
      " conv2d_input (InputLayer)   [(None, 128, 128, 3)]     0         \n",
      "                                                                 \n",
      " conv2d (Conv2D)             (None, 126, 126, 64)      1792      \n",
      "                                                                 \n",
      " max_pooling2d (MaxPooling2D  (None, 63, 63, 64)       0         \n",
      " )                                                               \n",
      "                                                                 \n",
      " batch_normalization (BatchN  (None, 63, 63, 64)       256       \n",
      " ormalization)                                                   \n",
      "                                                                 \n",
      " dropout (Dropout)           (None, 63, 63, 64)        0         \n",
      "                                                                 \n",
      " conv2d_1 (Conv2D)           (None, 61, 61, 64)        36928     \n",
      "                                                                 \n",
      " max_pooling2d_1 (MaxPooling  (None, 30, 30, 64)       0         \n",
      " 2D)                                                             \n",
      "                                                                 \n",
      " conv2d_2 (Conv2D)           (None, 28, 28, 64)        36928     \n",
      "                                                                 \n",
      " max_pooling2d_2 (MaxPooling  (None, 14, 14, 64)       0         \n",
      " 2D)                                                             \n",
      "                                                                 \n",
      " flatten (Flatten)           (None, 12544)             0         \n",
      "                                                                 \n",
      " dense (Dense)               (None, 128)               1605760   \n",
      "                                                                 \n",
      " batch_normalization_1 (Batc  (None, 128)              512       \n",
      " hNormalization)                                                 \n",
      "                                                                 \n",
      " dropout_1 (Dropout)         (None, 128)               0         \n",
      "                                                                 \n",
      " dense_1 (Dense)             (None, 2)                 258       \n",
      "                                                                 \n",
      "=================================================================\n",
      "Total params: 1,682,434\n",
      "Trainable params: 1,682,050\n",
      "Non-trainable params: 384\n",
      "_________________________________________________________________\n"
     ]
    }
   ],
   "source": [
    "cnn_model.summary()"
   ]
  },
  {
   "cell_type": "code",
   "execution_count": 8,
   "id": "17b0cebe",
   "metadata": {},
   "outputs": [],
   "source": [
    "cnn_model.compile(optimizer = \"adam\" , loss = \"sparse_categorical_crossentropy\", metrics=[\"accuracy\"])"
   ]
  },
  {
   "cell_type": "code",
   "execution_count": 9,
   "id": "231f6bc1",
   "metadata": {},
   "outputs": [],
   "source": [
    "batch_size=8\n",
    "epochs=50"
   ]
  },
  {
   "cell_type": "code",
   "execution_count": 10,
   "id": "6e0f642a",
   "metadata": {},
   "outputs": [],
   "source": [
    "from tensorflow.keras.callbacks import EarlyStopping\n",
    "from tensorflow.keras.callbacks import ModelCheckpoint\n",
    "\n",
    "custom_early_stopping = EarlyStopping(monitor='accuracy', patience=20,restore_best_weights=True),ModelCheckpoint(filepath=os.path.join(os.path.join(\"checkpoint\"), 'model.{epoch:02d}-{val_loss:.2f}-{val_accuracy:.2f}.h5'))"
   ]
  },
  {
   "cell_type": "code",
   "execution_count": 11,
   "id": "bc117f2c",
   "metadata": {},
   "outputs": [
    {
     "name": "stdout",
     "output_type": "stream",
     "text": [
      "Epoch 1/50\n",
      "229/229 [==============================] - 69s 281ms/step - loss: 0.3003 - accuracy: 0.8854 - val_loss: 1.0747 - val_accuracy: 0.3382\n",
      "Epoch 2/50\n",
      "229/229 [==============================] - 73s 319ms/step - loss: 0.2333 - accuracy: 0.9121 - val_loss: 1.5059 - val_accuracy: 0.3235\n",
      "Epoch 3/50\n",
      "229/229 [==============================] - 69s 302ms/step - loss: 0.2353 - accuracy: 0.9159 - val_loss: 1.0507 - val_accuracy: 0.5441\n",
      "Epoch 4/50\n",
      "229/229 [==============================] - 66s 290ms/step - loss: 0.2535 - accuracy: 0.9165 - val_loss: 0.4697 - val_accuracy: 0.7794\n",
      "Epoch 5/50\n",
      "229/229 [==============================] - 65s 285ms/step - loss: 0.2520 - accuracy: 0.9165 - val_loss: 0.6331 - val_accuracy: 0.7353\n",
      "Epoch 6/50\n",
      "229/229 [==============================] - 65s 285ms/step - loss: 0.2231 - accuracy: 0.9187 - val_loss: 0.2628 - val_accuracy: 0.9265\n",
      "Epoch 7/50\n",
      "229/229 [==============================] - 65s 285ms/step - loss: 0.2187 - accuracy: 0.9192 - val_loss: 0.5303 - val_accuracy: 0.7500\n",
      "Epoch 8/50\n",
      "229/229 [==============================] - 68s 296ms/step - loss: 0.2384 - accuracy: 0.9198 - val_loss: 0.2360 - val_accuracy: 0.9412\n",
      "Epoch 9/50\n",
      "229/229 [==============================] - 64s 282ms/step - loss: 0.2560 - accuracy: 0.9088 - val_loss: 0.2212 - val_accuracy: 0.9265\n",
      "Epoch 10/50\n",
      "229/229 [==============================] - 65s 283ms/step - loss: 0.2200 - accuracy: 0.9214 - val_loss: 0.2856 - val_accuracy: 0.9118\n",
      "Epoch 11/50\n",
      "229/229 [==============================] - 65s 283ms/step - loss: 0.2177 - accuracy: 0.9263 - val_loss: 0.5809 - val_accuracy: 0.7353\n",
      "Epoch 12/50\n",
      "229/229 [==============================] - 65s 283ms/step - loss: 0.1929 - accuracy: 0.9312 - val_loss: 0.3476 - val_accuracy: 0.8824\n",
      "Epoch 13/50\n",
      "229/229 [==============================] - 67s 292ms/step - loss: 0.2207 - accuracy: 0.9198 - val_loss: 0.2673 - val_accuracy: 0.9118\n",
      "Epoch 14/50\n",
      "229/229 [==============================] - 65s 283ms/step - loss: 0.1840 - accuracy: 0.9334 - val_loss: 0.1716 - val_accuracy: 0.9412\n",
      "Epoch 15/50\n",
      "229/229 [==============================] - 65s 283ms/step - loss: 0.2031 - accuracy: 0.9290 - val_loss: 0.6960 - val_accuracy: 0.7500\n",
      "Epoch 16/50\n",
      "229/229 [==============================] - 66s 287ms/step - loss: 0.1936 - accuracy: 0.9263 - val_loss: 0.2192 - val_accuracy: 0.8971\n",
      "Epoch 17/50\n",
      "229/229 [==============================] - 65s 282ms/step - loss: 0.1798 - accuracy: 0.9394 - val_loss: 0.2512 - val_accuracy: 0.9412\n",
      "Epoch 18/50\n",
      "229/229 [==============================] - 73s 318ms/step - loss: 0.1998 - accuracy: 0.9378 - val_loss: 0.2248 - val_accuracy: 0.9265\n",
      "Epoch 19/50\n",
      "229/229 [==============================] - 71s 308ms/step - loss: 0.1742 - accuracy: 0.9449 - val_loss: 0.1540 - val_accuracy: 0.9412\n",
      "Epoch 20/50\n",
      "229/229 [==============================] - 66s 290ms/step - loss: 0.1995 - accuracy: 0.9323 - val_loss: 0.2493 - val_accuracy: 0.8971\n",
      "Epoch 21/50\n",
      "229/229 [==============================] - 67s 293ms/step - loss: 0.1749 - accuracy: 0.9460 - val_loss: 0.2309 - val_accuracy: 0.9118\n",
      "Epoch 22/50\n",
      "229/229 [==============================] - 68s 295ms/step - loss: 0.1666 - accuracy: 0.9394 - val_loss: 0.2022 - val_accuracy: 0.9118\n",
      "Epoch 23/50\n",
      "229/229 [==============================] - 67s 293ms/step - loss: 0.1694 - accuracy: 0.9432 - val_loss: 0.1552 - val_accuracy: 0.9706\n",
      "Epoch 24/50\n",
      "229/229 [==============================] - 66s 289ms/step - loss: 0.1711 - accuracy: 0.9432 - val_loss: 0.1507 - val_accuracy: 0.9412\n",
      "Epoch 25/50\n",
      "229/229 [==============================] - 66s 290ms/step - loss: 0.1538 - accuracy: 0.9509 - val_loss: 0.6092 - val_accuracy: 0.6912\n",
      "Epoch 26/50\n",
      "229/229 [==============================] - 66s 290ms/step - loss: 0.1938 - accuracy: 0.9405 - val_loss: 0.4376 - val_accuracy: 0.8088\n",
      "Epoch 27/50\n",
      "229/229 [==============================] - 67s 293ms/step - loss: 0.1684 - accuracy: 0.9476 - val_loss: 0.1219 - val_accuracy: 0.9265\n",
      "Epoch 28/50\n",
      "229/229 [==============================] - 67s 294ms/step - loss: 0.1776 - accuracy: 0.9356 - val_loss: 0.1679 - val_accuracy: 0.9412\n",
      "Epoch 29/50\n",
      "229/229 [==============================] - 67s 293ms/step - loss: 0.1519 - accuracy: 0.9514 - val_loss: 0.2301 - val_accuracy: 0.8971\n",
      "Epoch 30/50\n",
      "229/229 [==============================] - 67s 295ms/step - loss: 0.1898 - accuracy: 0.9356 - val_loss: 0.1929 - val_accuracy: 0.9412\n",
      "Epoch 31/50\n",
      "229/229 [==============================] - 66s 290ms/step - loss: 0.1533 - accuracy: 0.9541 - val_loss: 0.0986 - val_accuracy: 0.9706\n",
      "Epoch 32/50\n",
      "229/229 [==============================] - 71s 308ms/step - loss: 0.1334 - accuracy: 0.9596 - val_loss: 0.0757 - val_accuracy: 0.9559\n",
      "Epoch 33/50\n",
      "229/229 [==============================] - 73s 320ms/step - loss: 0.1534 - accuracy: 0.9520 - val_loss: 0.1769 - val_accuracy: 0.9118\n",
      "Epoch 34/50\n",
      "229/229 [==============================] - 69s 301ms/step - loss: 0.1341 - accuracy: 0.9602 - val_loss: 0.2010 - val_accuracy: 0.9118\n",
      "Epoch 35/50\n",
      "229/229 [==============================] - 69s 300ms/step - loss: 0.1250 - accuracy: 0.9618 - val_loss: 0.0806 - val_accuracy: 0.9559\n",
      "Epoch 36/50\n",
      "229/229 [==============================] - 67s 291ms/step - loss: 0.1169 - accuracy: 0.9634 - val_loss: 0.1105 - val_accuracy: 0.9559\n",
      "Epoch 37/50\n",
      "229/229 [==============================] - 67s 294ms/step - loss: 0.1260 - accuracy: 0.9558 - val_loss: 0.1096 - val_accuracy: 0.9559\n",
      "Epoch 38/50\n",
      "229/229 [==============================] - 65s 286ms/step - loss: 0.1197 - accuracy: 0.9612 - val_loss: 0.2392 - val_accuracy: 0.9559\n",
      "Epoch 39/50\n",
      "229/229 [==============================] - 65s 286ms/step - loss: 0.1034 - accuracy: 0.9667 - val_loss: 0.1208 - val_accuracy: 0.9412\n",
      "Epoch 40/50\n",
      "229/229 [==============================] - 68s 299ms/step - loss: 0.1927 - accuracy: 0.9323 - val_loss: 0.3221 - val_accuracy: 0.8971\n",
      "Epoch 41/50\n",
      "229/229 [==============================] - 66s 289ms/step - loss: 0.1541 - accuracy: 0.9416 - val_loss: 0.2943 - val_accuracy: 0.8676\n",
      "Epoch 42/50\n",
      "229/229 [==============================] - 66s 290ms/step - loss: 0.1458 - accuracy: 0.9563 - val_loss: 0.0880 - val_accuracy: 0.9559\n",
      "Epoch 43/50\n",
      "229/229 [==============================] - 67s 291ms/step - loss: 0.1014 - accuracy: 0.9727 - val_loss: 0.1146 - val_accuracy: 0.9706\n",
      "Epoch 44/50\n",
      "229/229 [==============================] - 70s 307ms/step - loss: 0.1303 - accuracy: 0.9607 - val_loss: 0.1113 - val_accuracy: 0.9412\n",
      "Epoch 45/50\n",
      "229/229 [==============================] - 71s 310ms/step - loss: 0.1241 - accuracy: 0.9563 - val_loss: 0.1018 - val_accuracy: 0.9412\n",
      "Epoch 46/50\n",
      "229/229 [==============================] - 69s 303ms/step - loss: 0.1369 - accuracy: 0.9580 - val_loss: 0.1521 - val_accuracy: 0.9412\n",
      "Epoch 47/50\n",
      "229/229 [==============================] - 75s 328ms/step - loss: 0.1333 - accuracy: 0.9596 - val_loss: 0.0724 - val_accuracy: 0.9706\n",
      "Epoch 48/50\n",
      "229/229 [==============================] - 70s 307ms/step - loss: 0.0846 - accuracy: 0.9733 - val_loss: 0.1148 - val_accuracy: 0.9559\n",
      "Epoch 49/50\n",
      "229/229 [==============================] - 69s 300ms/step - loss: 0.1247 - accuracy: 0.9563 - val_loss: 0.1016 - val_accuracy: 0.9559\n",
      "Epoch 50/50\n",
      "229/229 [==============================] - 65s 285ms/step - loss: 0.1171 - accuracy: 0.9596 - val_loss: 0.0990 - val_accuracy: 0.9559\n"
     ]
    }
   ],
   "source": [
    "history =  cnn_model.fit(X_train, y_train, batch_size=batch_size,epochs=epochs,verbose=1,validation_data =(X_test,y_test),callbacks=[custom_early_stopping])"
   ]
  },
  {
   "cell_type": "code",
   "execution_count": 12,
   "id": "48394608",
   "metadata": {},
   "outputs": [
    {
     "name": "stdout",
     "output_type": "stream",
     "text": [
      "9/9 [==============================] - 1s 57ms/step - loss: 0.0990 - accuracy: 0.9559\n",
      "Test loss: 0.09904195368289948\n",
      "Test accuracy: 0.9558823704719543\n"
     ]
    }
   ],
   "source": [
    "score = cnn_model.evaluate(X_test, y_test, batch_size=batch_size, verbose=1)\n",
    "\n",
    "print('Test loss:', score[0])\n",
    "print('Test accuracy:', score[1])"
   ]
  },
  {
   "cell_type": "code",
   "execution_count": 13,
   "id": "81bc4be7",
   "metadata": {},
   "outputs": [],
   "source": [
    "y_test_pred = cnn_model.predict(X_test)"
   ]
  },
  {
   "cell_type": "code",
   "execution_count": 14,
   "id": "b23f2736",
   "metadata": {},
   "outputs": [],
   "source": [
    "y_pred = (y_test_pred > 0.5)\n",
    "y_pred=np.argmax(y_pred, axis=1)"
   ]
  },
  {
   "cell_type": "code",
   "execution_count": 15,
   "id": "8f350b9f",
   "metadata": {},
   "outputs": [],
   "source": [
    "from sklearn.metrics import classification_report\n",
    "from sklearn.metrics import confusion_matrix"
   ]
  },
  {
   "cell_type": "code",
   "execution_count": 16,
   "id": "0bc10e26",
   "metadata": {},
   "outputs": [
    {
     "data": {
      "image/png": "[encoded data removed]",
      "text/plain": [
       "<Figure size 720x720 with 2 Axes>"
      ]
     },
     "metadata": {},
     "output_type": "display_data"
    }
   ],
   "source": [
    "def confusion(y_test,y_test_pred,X):\n",
    "    names=['No Fire','Fire']\n",
    "    cm=confusion_matrix(y_test,y_test_pred)\n",
    "    f,ax=plt.subplots(figsize=(10,10))\n",
    "    sns.heatmap(cm,annot=True,linewidth=.5,linecolor=\"r\",fmt=\".0f\",ax=ax)\n",
    "    plt.title(X, size = 25)\n",
    "    plt.xlabel(\"y_pred\")\n",
    "    plt.ylabel(\"y_true\")\n",
    "    ax.set_xticklabels(names)\n",
    "    ax.set_yticklabels(names)\n",
    "    plt.savefig('confusion_matrix_cnn.jpg')\n",
    "    plt.show()\n",
    "\n",
    "    return\n",
    "confusion(y_test,y_pred,\"CNN\")"
   ]
  },
  {
   "cell_type": "code",
   "execution_count": 17,
   "id": "9342f5e9",
   "metadata": {},
   "outputs": [
    {
     "data": {
      "image/png": "[encoded data removed]",
      "text/plain": [
       "<Figure size 432x288 with 1 Axes>"
      ]
     },
     "metadata": {},
     "output_type": "display_data"
    }
   ],
   "source": [
    "loss = history.history['loss']\n",
    "val_loss = history.history['val_loss']\n",
    "epochs = range(1, len(loss) + 1)\n",
    "plt.plot(epochs, loss, 'y', label='Training loss')\n",
    "plt.plot(epochs, val_loss, 'r', label='Validation loss')\n",
    "plt.title('Training and validation loss')\n",
    "plt.xlabel('Epochs')\n",
    "plt.ylabel('Loss')\n",
    "plt.legend()\n",
    "plt.savefig('loss_plot.jpg')\n",
    "plt.show()"
   ]
  },
  {
   "cell_type": "code",
   "execution_count": 18,
   "id": "c6d38b82",
   "metadata": {},
   "outputs": [
    {
     "data": {
      "image/png": "[encoded data removed]",
      "text/plain": [
       "<Figure size 432x288 with 1 Axes>"
      ]
     },
     "metadata": {},
     "output_type": "display_data"
    }
   ],
   "source": [
    "acc = history.history['accuracy']\n",
    "val_acc = history.history['val_accuracy']\n",
    "plt.plot(epochs, acc, 'y', label='Training acc')\n",
    "plt.plot(epochs, val_acc, 'r', label='Validation acc')\n",
    "plt.title('Training and validation accuracy')\n",
    "plt.xlabel('Epochs')\n",
    "plt.ylabel('Accuracy')\n",
    "plt.legend()\n",
    "plt.savefig('accuracy_plot.jpg')\n",
    "plt.show()"
   ]
  },
  {
   "cell_type": "code",
   "execution_count": 20,
   "id": "a820a070",
   "metadata": {},
   "outputs": [
    {
     "name": "stdout",
     "output_type": "stream",
     "text": [
      "Loaded model from disk\n"
     ]
    }
   ],
   "source": [
    "from keras.models import model_from_json\n",
    "json_file = open('future_extractor.json', 'r')\n",
    "loaded_model_json = json_file.read()\n",
    "json_file.close()\n",
    "future_extractor = model_from_json(loaded_model_json)\n",
    "# load weights into new model\n",
    "future_extractor.load_weights(\"future_extractor.h5\")\n",
    "print(\"Loaded model from disk\")"
   ]
  },
  {
   "cell_type": "code",
   "execution_count": 21,
   "id": "34ef554d",
   "metadata": {},
   "outputs": [],
   "source": [
    "X_for_RF = future_extractor.predict(X_train)"
   ]
  },
  {
   "cell_type": "code",
   "execution_count": 22,
   "id": "5eb886e3",
   "metadata": {},
   "outputs": [],
   "source": [
    "from sklearn.ensemble import RandomForestClassifier\n",
    "RF_model = RandomForestClassifier(n_estimators = 250, random_state = 42)"
   ]
  },
  {
   "cell_type": "code",
   "execution_count": 23,
   "id": "ad7d158c",
   "metadata": {},
   "outputs": [
    {
     "data": {
      "text/plain": [
       "RandomForestClassifier(n_estimators=250, random_state=42)"
      ]
     },
     "execution_count": 23,
     "metadata": {},
     "output_type": "execute_result"
    }
   ],
   "source": [
    "RF_model.fit(X_for_RF, y_train)"
   ]
  },
  {
   "cell_type": "code",
   "execution_count": 24,
   "id": "204f8c70",
   "metadata": {},
   "outputs": [],
   "source": [
    "X_test_feature = future_extractor.predict(X_test)"
   ]
  },
  {
   "cell_type": "code",
   "execution_count": 25,
   "id": "3c280654",
   "metadata": {},
   "outputs": [],
   "source": [
    "prediction_RF = RF_model.predict(X_test_feature)"
   ]
  },
  {
   "cell_type": "code",
   "execution_count": 26,
   "id": "ff083d9e",
   "metadata": {},
   "outputs": [
    {
     "name": "stdout",
     "output_type": "stream",
     "text": [
      "Accuracy =  0.9852941176470589\n"
     ]
    }
   ],
   "source": [
    "from sklearn import metrics\n",
    "print (\"Accuracy = \", metrics.accuracy_score(y_test, prediction_RF))"
   ]
  },
  {
   "cell_type": "code",
   "execution_count": 27,
   "id": "4781769a",
   "metadata": {},
   "outputs": [
    {
     "data": {
      "text/plain": [
       "0.9787234042553191"
      ]
     },
     "execution_count": 27,
     "metadata": {},
     "output_type": "execute_result"
    }
   ],
   "source": [
    "precision = sklearn.metrics.precision_score(y_test,prediction_RF, pos_label=0)\n",
    "precision"
   ]
  },
  {
   "cell_type": "code",
   "execution_count": 28,
   "id": "894f05d2",
   "metadata": {},
   "outputs": [
    {
     "data": {
      "text/plain": [
       "1.0"
      ]
     },
     "execution_count": 28,
     "metadata": {},
     "output_type": "execute_result"
    }
   ],
   "source": [
    "recall = sklearn.metrics.recall_score(y_test, prediction_RF, pos_label=0)\n",
    "recall"
   ]
  },
  {
   "cell_type": "code",
   "execution_count": 29,
   "id": "b6e08dce",
   "metadata": {},
   "outputs": [
    {
     "data": {
      "text/plain": [
       "0.989247311827957"
      ]
     },
     "execution_count": 29,
     "metadata": {},
     "output_type": "execute_result"
    }
   ],
   "source": [
    "f1_score = 2 * ((precision * recall) / (precision + recall))\n",
    "f1_score"
   ]
  },
  {
   "cell_type": "code",
   "execution_count": 30,
   "id": "7f02f724",
   "metadata": {},
   "outputs": [
    {
     "data": {
      "image/png": "[encoded data removed]",
      "text/plain": [
       "<Figure size 432x288 with 1 Axes>"
      ]
     },
     "metadata": {},
     "output_type": "display_data"
    }
   ],
   "source": [
    "from sklearn.metrics import roc_curve\n",
    "from sklearn.metrics import auc\n",
    "y_pred_rf = prediction_RF\n",
    "fpr_rf, tpr_rf, thresholds_rf = roc_curve(y_test, y_pred_rf)\n",
    "auc_rf = auc(fpr_rf, tpr_rf)\n",
    "plt.figure(1)\n",
    "plt.plot([0, 1], [0, 1], 'k--')\n",
    "plt.plot(fpr_rf, tpr_rf, label='RF (area = {:.3f})'.format(auc_rf))\n",
    "plt.xlabel('False positive rate')\n",
    "plt.ylabel('True positive rate')\n",
    "plt.title('ROC curve')\n",
    "plt.legend(loc='best')\n",
    "plt.savefig(\"Rfroc.jpg\")\n",
    "plt.show()"
   ]
  },
  {
   "cell_type": "code",
   "execution_count": null,
   "id": "64287f11",
   "metadata": {},
   "outputs": [],
   "source": []
  },
  {
   "cell_type": "code",
   "execution_count": 25,
   "id": "13d5dcc2",
   "metadata": {},
   "outputs": [
    {
     "data": {
      "text/plain": [
       "<AxesSubplot:>"
      ]
     },
     "execution_count": 25,
     "metadata": {},
     "output_type": "execute_result"
    },
    {
     "data": {
      "image/png": "[encoded data removed]",
      "text/plain": [
       "<Figure size 432x288 with 2 Axes>"
      ]
     },
     "metadata": {},
     "output_type": "display_data"
    }
   ],
   "source": [
    "cm = confusion_matrix(y_test, prediction_RF)\n",
    "#print(cm)\n",
    "sns.heatmap(cm, annot=True)"
   ]
  },
  {
   "cell_type": "code",
   "execution_count": 26,
   "id": "cc69eab5",
   "metadata": {},
   "outputs": [
    {
     "data": {
      "text/plain": [
       "['my_random_forest.joblib']"
      ]
     },
     "execution_count": 26,
     "metadata": {},
     "output_type": "execute_result"
    }
   ],
   "source": [
    "import joblib\n",
    "joblib.dump(RF_model , \"my_random_forest.joblib\")"
   ]
  },
  {
   "cell_type": "code",
   "execution_count": 50,
   "id": "5a1e634c",
   "metadata": {},
   "outputs": [
    {
     "name": "stdout",
     "output_type": "stream",
     "text": [
      "Saved model to disk\n"
     ]
    }
   ],
   "source": [
    "model_json = future_extractor.to_json()\n",
    "with open(\"future_extractor.json\", \"w\") as json_file:\n",
    "    json_file.write(model_json)\n",
    "# serialize weights to HDF5\n",
    "future_extractor.save_weights(\"future_extractor.h5\")\n",
    "print(\"Saved model to disk\")"
   ]
  },
  {
   "cell_type": "code",
   "execution_count": null,
   "id": "6613f0d5",
   "metadata": {},
   "outputs": [],
   "source": []
  }
 ],
 "metadata": {
  "kernelspec": {
   "display_name": "Python 3",
   "language": "python",
   "name": "python3"
  },
  "language_info": {
   "codemirror_mode": {
    "name": "ipython",
    "version": 3
   },
   "file_extension": ".py",
   "mimetype": "text/x-python",
   "name": "python",
   "nbconvert_exporter": "python",
   "pygments_lexer": "ipython3",
   "version": "3.8.8"
  }
 },
 "nbformat": 4,
 "nbformat_minor": 5
}
